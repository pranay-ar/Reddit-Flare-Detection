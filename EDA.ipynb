{
 "cells": [
  {
   "cell_type": "code",
   "execution_count": 14,
   "metadata": {},
   "outputs": [],
   "source": [
    "import pandas as pd\n",
    "import numpy as np\n",
    "import seaborn as sb\n",
    "import matplotlib.pyplot as plt\n",
    "\n",
    "%matplotlib inline\n",
    "sb.set(color_codes= True)"
   ]
  },
  {
   "cell_type": "code",
   "execution_count": 15,
   "metadata": {},
   "outputs": [],
   "source": [
    "rind= pd.read_csv('./rindia.csv')"
   ]
  },
  {
   "cell_type": "code",
   "execution_count": 16,
   "metadata": {},
   "outputs": [
    {
     "name": "stdout",
     "output_type": "stream",
     "text": [
      "Shape of the scraped data =  (212, 9)\n"
     ]
    },
    {
     "data": {
      "text/html": [
       "<div>\n",
       "<style scoped>\n",
       "    .dataframe tbody tr th:only-of-type {\n",
       "        vertical-align: middle;\n",
       "    }\n",
       "\n",
       "    .dataframe tbody tr th {\n",
       "        vertical-align: top;\n",
       "    }\n",
       "\n",
       "    .dataframe thead th {\n",
       "        text-align: right;\n",
       "    }\n",
       "</style>\n",
       "<table border=\"1\" class=\"dataframe\">\n",
       "  <thead>\n",
       "    <tr style=\"text-align: right;\">\n",
       "      <th></th>\n",
       "      <th>title</th>\n",
       "      <th>url</th>\n",
       "      <th>comms_num</th>\n",
       "      <th>flare</th>\n",
       "      <th>score</th>\n",
       "      <th>id</th>\n",
       "      <th>created</th>\n",
       "      <th>author</th>\n",
       "      <th>body</th>\n",
       "    </tr>\n",
       "  </thead>\n",
       "  <tbody>\n",
       "    <tr>\n",
       "      <th>0</th>\n",
       "      <td>Healthcare Experts in an AMA on low count of C...</td>\n",
       "      <td>https://i.imgur.com/dII91mh.jpg</td>\n",
       "      <td>325</td>\n",
       "      <td>AMA</td>\n",
       "      <td>2231</td>\n",
       "      <td>fqbie6</td>\n",
       "      <td>1.585391e+09</td>\n",
       "      <td>zealofsingh</td>\n",
       "      <td>NaN</td>\n",
       "    </tr>\n",
       "    <tr>\n",
       "      <th>1</th>\n",
       "      <td>I am an exmuslim. AMA!</td>\n",
       "      <td>https://www.reddit.com/r/india/comments/fw2u16...</td>\n",
       "      <td>250</td>\n",
       "      <td>AMA</td>\n",
       "      <td>137</td>\n",
       "      <td>fw2u16</td>\n",
       "      <td>1.586223e+09</td>\n",
       "      <td>butcher1239</td>\n",
       "      <td>Hi!  \\n\\n\\nI am an in-the-closet exmuslim who...</td>\n",
       "    </tr>\n",
       "    <tr>\n",
       "      <th>2</th>\n",
       "      <td>Hi, I’m Dr. Roshan Radhakrishnan, a doctor, an...</td>\n",
       "      <td>https://i.redd.it/vf1ak8axs8n41.jpg</td>\n",
       "      <td>413</td>\n",
       "      <td>AMA</td>\n",
       "      <td>816</td>\n",
       "      <td>fk649f</td>\n",
       "      <td>1.584484e+09</td>\n",
       "      <td>pythoroshan</td>\n",
       "      <td>NaN</td>\n",
       "    </tr>\n",
       "    <tr>\n",
       "      <th>3</th>\n",
       "      <td>Casual AMA: we are group of friends who met th...</td>\n",
       "      <td>https://www.reddit.com/r/india/comments/fmxz3j...</td>\n",
       "      <td>81</td>\n",
       "      <td>AMA</td>\n",
       "      <td>29</td>\n",
       "      <td>fmxz3j</td>\n",
       "      <td>1.584902e+09</td>\n",
       "      <td>1000floatingducks</td>\n",
       "      <td>Hello, r/india we are few old members of this ...</td>\n",
       "    </tr>\n",
       "    <tr>\n",
       "      <th>4</th>\n",
       "      <td>AMA. Indian living in North Italy in the coron...</td>\n",
       "      <td>https://www.reddit.com/r/india/comments/fg3mdn...</td>\n",
       "      <td>48</td>\n",
       "      <td>AMA</td>\n",
       "      <td>95</td>\n",
       "      <td>fg3mdn</td>\n",
       "      <td>1.583823e+09</td>\n",
       "      <td>knickl</td>\n",
       "      <td>Hi guys. I live in Milan and thought I'd try d...</td>\n",
       "    </tr>\n",
       "  </tbody>\n",
       "</table>\n",
       "</div>"
      ],
      "text/plain": [
       "                                               title  \\\n",
       "0  Healthcare Experts in an AMA on low count of C...   \n",
       "1                             I am an exmuslim. AMA!   \n",
       "2  Hi, I’m Dr. Roshan Radhakrishnan, a doctor, an...   \n",
       "3  Casual AMA: we are group of friends who met th...   \n",
       "4  AMA. Indian living in North Italy in the coron...   \n",
       "\n",
       "                                                 url  comms_num flare  score  \\\n",
       "0                    https://i.imgur.com/dII91mh.jpg        325   AMA   2231   \n",
       "1  https://www.reddit.com/r/india/comments/fw2u16...        250   AMA    137   \n",
       "2                https://i.redd.it/vf1ak8axs8n41.jpg        413   AMA    816   \n",
       "3  https://www.reddit.com/r/india/comments/fmxz3j...         81   AMA     29   \n",
       "4  https://www.reddit.com/r/india/comments/fg3mdn...         48   AMA     95   \n",
       "\n",
       "       id       created             author  \\\n",
       "0  fqbie6  1.585391e+09        zealofsingh   \n",
       "1  fw2u16  1.586223e+09        butcher1239   \n",
       "2  fk649f  1.584484e+09        pythoroshan   \n",
       "3  fmxz3j  1.584902e+09  1000floatingducks   \n",
       "4  fg3mdn  1.583823e+09             knickl   \n",
       "\n",
       "                                                body  \n",
       "0                                                NaN  \n",
       "1   Hi!  \\n\\n\\nI am an in-the-closet exmuslim who...  \n",
       "2                                                NaN  \n",
       "3  Hello, r/india we are few old members of this ...  \n",
       "4  Hi guys. I live in Milan and thought I'd try d...  "
      ]
     },
     "execution_count": 16,
     "metadata": {},
     "output_type": "execute_result"
    }
   ],
   "source": [
    "print (\"Shape of the scraped data = \", rind.shape)\n",
    "rind.head()"
   ]
  },
  {
   "cell_type": "code",
   "execution_count": 17,
   "metadata": {},
   "outputs": [
    {
     "data": {
      "text/plain": [
       "title         object\n",
       "url           object\n",
       "comms_num      int64\n",
       "flare         object\n",
       "score          int64\n",
       "id            object\n",
       "created      float64\n",
       "author        object\n",
       "body          object\n",
       "dtype: object"
      ]
     },
     "execution_count": 17,
     "metadata": {},
     "output_type": "execute_result"
    }
   ],
   "source": [
    "rind.dtypes\n"
   ]
  },
  {
   "cell_type": "code",
   "execution_count": 18,
   "metadata": {},
   "outputs": [],
   "source": [
    "rind = rind.drop(['body'], axis = 1)"
   ]
  },
  {
   "cell_type": "code",
   "execution_count": 19,
   "metadata": {},
   "outputs": [
    {
     "data": {
      "text/html": [
       "<div>\n",
       "<style scoped>\n",
       "    .dataframe tbody tr th:only-of-type {\n",
       "        vertical-align: middle;\n",
       "    }\n",
       "\n",
       "    .dataframe tbody tr th {\n",
       "        vertical-align: top;\n",
       "    }\n",
       "\n",
       "    .dataframe thead th {\n",
       "        text-align: right;\n",
       "    }\n",
       "</style>\n",
       "<table border=\"1\" class=\"dataframe\">\n",
       "  <thead>\n",
       "    <tr style=\"text-align: right;\">\n",
       "      <th></th>\n",
       "      <th>title</th>\n",
       "      <th>url</th>\n",
       "      <th>comms_num</th>\n",
       "      <th>flare</th>\n",
       "      <th>score</th>\n",
       "      <th>id</th>\n",
       "      <th>created</th>\n",
       "      <th>author</th>\n",
       "    </tr>\n",
       "  </thead>\n",
       "  <tbody>\n",
       "    <tr>\n",
       "      <th>0</th>\n",
       "      <td>Healthcare Experts in an AMA on low count of C...</td>\n",
       "      <td>https://i.imgur.com/dII91mh.jpg</td>\n",
       "      <td>325</td>\n",
       "      <td>AMA</td>\n",
       "      <td>2231</td>\n",
       "      <td>fqbie6</td>\n",
       "      <td>1.585391e+09</td>\n",
       "      <td>zealofsingh</td>\n",
       "    </tr>\n",
       "    <tr>\n",
       "      <th>1</th>\n",
       "      <td>I am an exmuslim. AMA!</td>\n",
       "      <td>https://www.reddit.com/r/india/comments/fw2u16...</td>\n",
       "      <td>250</td>\n",
       "      <td>AMA</td>\n",
       "      <td>137</td>\n",
       "      <td>fw2u16</td>\n",
       "      <td>1.586223e+09</td>\n",
       "      <td>butcher1239</td>\n",
       "    </tr>\n",
       "    <tr>\n",
       "      <th>2</th>\n",
       "      <td>Hi, I’m Dr. Roshan Radhakrishnan, a doctor, an...</td>\n",
       "      <td>https://i.redd.it/vf1ak8axs8n41.jpg</td>\n",
       "      <td>413</td>\n",
       "      <td>AMA</td>\n",
       "      <td>816</td>\n",
       "      <td>fk649f</td>\n",
       "      <td>1.584484e+09</td>\n",
       "      <td>pythoroshan</td>\n",
       "    </tr>\n",
       "    <tr>\n",
       "      <th>3</th>\n",
       "      <td>Casual AMA: we are group of friends who met th...</td>\n",
       "      <td>https://www.reddit.com/r/india/comments/fmxz3j...</td>\n",
       "      <td>81</td>\n",
       "      <td>AMA</td>\n",
       "      <td>29</td>\n",
       "      <td>fmxz3j</td>\n",
       "      <td>1.584902e+09</td>\n",
       "      <td>1000floatingducks</td>\n",
       "    </tr>\n",
       "    <tr>\n",
       "      <th>4</th>\n",
       "      <td>AMA. Indian living in North Italy in the coron...</td>\n",
       "      <td>https://www.reddit.com/r/india/comments/fg3mdn...</td>\n",
       "      <td>48</td>\n",
       "      <td>AMA</td>\n",
       "      <td>95</td>\n",
       "      <td>fg3mdn</td>\n",
       "      <td>1.583823e+09</td>\n",
       "      <td>knickl</td>\n",
       "    </tr>\n",
       "  </tbody>\n",
       "</table>\n",
       "</div>"
      ],
      "text/plain": [
       "                                               title  \\\n",
       "0  Healthcare Experts in an AMA on low count of C...   \n",
       "1                             I am an exmuslim. AMA!   \n",
       "2  Hi, I’m Dr. Roshan Radhakrishnan, a doctor, an...   \n",
       "3  Casual AMA: we are group of friends who met th...   \n",
       "4  AMA. Indian living in North Italy in the coron...   \n",
       "\n",
       "                                                 url  comms_num flare  score  \\\n",
       "0                    https://i.imgur.com/dII91mh.jpg        325   AMA   2231   \n",
       "1  https://www.reddit.com/r/india/comments/fw2u16...        250   AMA    137   \n",
       "2                https://i.redd.it/vf1ak8axs8n41.jpg        413   AMA    816   \n",
       "3  https://www.reddit.com/r/india/comments/fmxz3j...         81   AMA     29   \n",
       "4  https://www.reddit.com/r/india/comments/fg3mdn...         48   AMA     95   \n",
       "\n",
       "       id       created             author  \n",
       "0  fqbie6  1.585391e+09        zealofsingh  \n",
       "1  fw2u16  1.586223e+09        butcher1239  \n",
       "2  fk649f  1.584484e+09        pythoroshan  \n",
       "3  fmxz3j  1.584902e+09  1000floatingducks  \n",
       "4  fg3mdn  1.583823e+09             knickl  "
      ]
     },
     "execution_count": 19,
     "metadata": {},
     "output_type": "execute_result"
    }
   ],
   "source": [
    "rind.head()"
   ]
  },
  {
   "cell_type": "code",
   "execution_count": 20,
   "metadata": {},
   "outputs": [
    {
     "data": {
      "text/plain": [
       "<matplotlib.axes._subplots.AxesSubplot at 0x7f160b946410>"
      ]
     },
     "execution_count": 20,
     "metadata": {},
     "output_type": "execute_result"
    },
    {
     "data": {
      "image/png": "[encoded data removed]",
      "text/plain": [
       "<Figure size 432x288 with 1 Axes>"
      ]
     },
     "metadata": {},
     "output_type": "display_data"
    }
   ],
   "source": [
    "sb.boxplot(x=rind['comms_num'])"
   ]
  },
  {
   "cell_type": "code",
   "execution_count": 21,
   "metadata": {},
   "outputs": [
    {
     "data": {
      "text/plain": [
       "<matplotlib.axes._subplots.AxesSubplot at 0x7f160b8b8710>"
      ]
     },
     "execution_count": 21,
     "metadata": {},
     "output_type": "execute_result"
    },
    {
     "data": {
      "image/png": "[encoded data removed]",
      "text/plain": [
       "<Figure size 432x288 with 1 Axes>"
      ]
     },
     "metadata": {},
     "output_type": "display_data"
    }
   ],
   "source": [
    "sb.boxplot(x=rind['score'])"
   ]
  },
  {
   "cell_type": "code",
   "execution_count": 22,
   "metadata": {},
   "outputs": [
    {
     "data": {
      "text/plain": [
       "<matplotlib.axes._subplots.AxesSubplot at 0x7f160b88db90>"
      ]
     },
     "execution_count": 22,
     "metadata": {},
     "output_type": "execute_result"
    },
    {
     "data": {
      "image/png": "[encoded data removed]",
      "text/plain": [
       "<Figure size 432x288 with 1 Axes>"
      ]
     },
     "metadata": {},
     "output_type": "display_data"
    }
   ],
   "source": [
    "sb.boxplot(x=rind['created'])"
   ]
  },
  {
   "cell_type": "code",
   "execution_count": 29,
   "metadata": {},
   "outputs": [
    {
     "ename": "NameError",
     "evalue": "name 'title' is not defined",
     "output_type": "error",
     "traceback": [
      "\u001b[0;31m---------------------------------------------------------------------------\u001b[0m",
      "\u001b[0;31mNameError\u001b[0m                                 Traceback (most recent call last)",
      "\u001b[0;32m<ipython-input-29-d55ad53ebb25>\u001b[0m in \u001b[0;36m<module>\u001b[0;34m\u001b[0m\n\u001b[1;32m      1\u001b[0m \u001b[0;31m#n, bins, patches =\u001b[0m\u001b[0;34m\u001b[0m\u001b[0;34m\u001b[0m\u001b[0;34m\u001b[0m\u001b[0m\n\u001b[0;32m----> 2\u001b[0;31m plt.hist(x= title, bins='auto', color='#0504aa',\n\u001b[0m\u001b[1;32m      3\u001b[0m                             alpha=0.7, rwidth=0.85)\n\u001b[1;32m      4\u001b[0m \u001b[0mplt\u001b[0m\u001b[0;34m.\u001b[0m\u001b[0mgrid\u001b[0m\u001b[0;34m(\u001b[0m\u001b[0maxis\u001b[0m\u001b[0;34m=\u001b[0m\u001b[0;34m'y'\u001b[0m\u001b[0;34m,\u001b[0m \u001b[0malpha\u001b[0m\u001b[0;34m=\u001b[0m\u001b[0;36m0.75\u001b[0m\u001b[0;34m)\u001b[0m\u001b[0;34m\u001b[0m\u001b[0;34m\u001b[0m\u001b[0m\n\u001b[1;32m      5\u001b[0m \u001b[0mplt\u001b[0m\u001b[0;34m.\u001b[0m\u001b[0mxlabel\u001b[0m\u001b[0;34m(\u001b[0m\u001b[0;34m'title'\u001b[0m\u001b[0;34m)\u001b[0m\u001b[0;34m\u001b[0m\u001b[0;34m\u001b[0m\u001b[0m\n",
      "\u001b[0;31mNameError\u001b[0m: name 'title' is not defined"
     ]
    }
   ],
   "source": [
    "#n, bins, patches = \n",
    "plt.hist(x= ti, bins='auto', color='#0504aa',\n",
    "                            alpha=0.7, rwidth=0.85)\n",
    "plt.grid(axis='y', alpha=0.75)\n",
    "plt.xlabel('title')\n",
    "plt.ylabel('created')\n",
    "plt.title('Statistic data of posts')"
   ]
  },
  {
   "cell_type": "code",
   "execution_count": null,
   "metadata": {},
   "outputs": [],
   "source": []
  }
 ],
 "metadata": {
  "kernelspec": {
   "display_name": "Python 3",
   "language": "python",
   "name": "python3"
  },
  "language_info": {
   "codemirror_mode": {
    "name": "ipython",
    "version": 3
   },
   "file_extension": ".py",
   "mimetype": "text/x-python",
   "name": "python",
   "nbconvert_exporter": "python",
   "pygments_lexer": "ipython3",
   "version": "3.7.6"
  }
 },
 "nbformat": 4,
 "nbformat_minor": 4
}
